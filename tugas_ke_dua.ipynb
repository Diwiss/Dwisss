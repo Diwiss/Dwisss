{
  "nbformat": 4,
  "nbformat_minor": 0,
  "metadata": {
    "colab": {
      "provenance": [],
      "toc_visible": true,
      "authorship_tag": "ABX9TyNtN4S5vE58TJZ7qB7N3vDZ",
      "include_colab_link": true
    },
    "kernelspec": {
      "name": "python3",
      "display_name": "Python 3"
    },
    "language_info": {
      "name": "python"
    }
  },
  "cells": [
    {
      "cell_type": "markdown",
      "metadata": {
        "id": "view-in-github",
        "colab_type": "text"
      },
      "source": [
        "<a href=\"https://colab.research.google.com/github/Dwisss/Dwisss/blob/main/tugas_ke_dua.ipynb\" target=\"_parent\"><img src=\"https://colab.research.google.com/assets/colab-badge.svg\" alt=\"Open In Colab\"/></a>"
      ]
    },
    {
      "cell_type": "code",
      "execution_count": 6,
      "metadata": {
        "id": "kVuVEVmnHIMx"
      },
      "outputs": [],
      "source": [
        "list_kosong = []"
      ]
    },
    {
      "cell_type": "code",
      "source": [
        "list_buah = [\"pisang\", \"Nanas\", \"Melon\",\"Durian\"]"
      ],
      "metadata": {
        "id": "14Ji8gB5HQmu"
      },
      "execution_count": 1,
      "outputs": []
    },
    {
      "cell_type": "code",
      "source": [
        "list_angka = [100,200,1000,2000]"
      ],
      "metadata": {
        "id": "tW8JLvRoIUrH"
      },
      "execution_count": 7,
      "outputs": []
    },
    {
      "cell_type": "code",
      "source": [
        "list_campur = [\"Nasi\",200,1000,500, \"ikan\" , True, False ]"
      ],
      "metadata": {
        "id": "awfs4uwBMj0Q"
      },
      "execution_count": 12,
      "outputs": []
    }
  ]
}